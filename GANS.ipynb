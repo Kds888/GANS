{
 "cells": [
  {
   "cell_type": "code",
   "execution_count": 1,
   "id": "de32552e",
   "metadata": {},
   "outputs": [],
   "source": [
    "import torch \n",
    "import torch.nn as nn\n",
    "import torch.optim as optim\n",
    "import torchvision\n",
    "import torchvision.datasets as datasets\n",
    "from torch.utils.data import DataLoader\n",
    "import torchvision.transforms as transforms\n",
    "%load_ext tensorboard"
   ]
  },
  {
   "cell_type": "code",
   "execution_count": 2,
   "id": "22214800",
   "metadata": {},
   "outputs": [],
   "source": [
    "from torch.utils.tensorboard import SummaryWriter"
   ]
  },
  {
   "cell_type": "code",
   "execution_count": 3,
   "id": "6f00d52a",
   "metadata": {},
   "outputs": [],
   "source": [
    "# Class Discriminator \n",
    "class Discrimintator(nn.Module):\n",
    "    def __init__(self,img_dim):\n",
    "        super().__init__()\n",
    "        self.disc = nn.Sequential(nn.Linear(img_dim,128),nn.LeakyReLU(0.1),nn.Linear(128,1),nn.Sigmoid(),)\n",
    "        # we are creating a neural netwrok with features supplied to 128 neuron and the leakyrelu\n",
    "        # BY setting the leaky relu as 1 all the negative slopes will be multiplied by 0.1 \n",
    "        # In the end we need only one output from the neural network and lastly we use sigmoid, to scale the output between \n",
    "        # 0 ad 1.\n",
    "        \n",
    "    def forward(self,x):\n",
    "        return self.disc(x)\n",
    "    \n",
    "class Generator(nn.Module):\n",
    "    # here the z dimesion is the latent noise that we will add as discussed while explaining the theory of the Gan's\n",
    "    def __init__(self,z_dim,img_dim):\n",
    "        # and we are also suppling the original dimesions too......\n",
    "        # image dimension would be around 784 as we are using the mnist dataset \n",
    "        super().__init__()\n",
    "        self.gen = nn.Sequential(\n",
    "        nn.Linear(z_dim,256),nn.LeakyReLU(0.1),nn.Linear(256,img_dim),nn.Tanh(),)\n",
    "        # tanh activation function will give us the value between -1 and 1, \n",
    "        # we need the output to be in -1 to 1 as we are going to normalize the inputs from the mnist dataset\n",
    "    def forward(self,x):\n",
    "        return self.gen(x)\n",
    "        \n",
    "# Hyperparametrs......\n",
    "# Gans are very sensitive to hyperparametrs"
   ]
  },
  {
   "cell_type": "code",
   "execution_count": 4,
   "id": "7688a54c",
   "metadata": {},
   "outputs": [],
   "source": [
    "# Hyperparametrs definations, based of the given papers............ \n",
    "device =\"cuda\" if torch.cuda.is_available() else \"cpu\"\n",
    "lr= 3e-4 # this learning rate was given, but we can change and check some more lr around\n",
    "z_dim = 64 # we can have other dims to like 128, 256 etc \n",
    "image_dim= 28*28*1# 784\n",
    "batch_size=32\n",
    "num_epochs =50\n",
    "disc = Discrimintator(image_dim).to(device)\n",
    "gen =Generator(z_dim,image_dim)\n",
    "fixed_noise = torch.randn((batch_size,z_dim)).to(device)\n",
    "# the reason we are giving fixed noise so that we can see how it has changed across the epochs \n",
    "transforms = transforms.Compose([transforms.ToTensor(),transforms.Normalize((0.5,),(0.5,))])\n",
    "# in the normalize we are using 0.1307 and 0.3081 as mean and standard deviation of the dataset.. as this is the actual\n",
    "# mean and deviation of the mnsit dataset. but we are using 0.5 for both as we are not able to converge our model.\n",
    "dataset= datasets.MNIST(root='dataset/', transform = transforms,download = True)\n",
    "loader=DataLoader(dataset,batch_size=batch_size, shuffle=True)# loading the dataset and shuffling the obtained dataset \n",
    "opt_disc=optim.Adam(disc.parameters(),lr=lr)\n",
    "# optimizer for for discriminatort\n",
    "opt_gen=optim.Adam(gen.parameters(),lr=lr)\n",
    "criterion = nn.BCELoss()# its the binary cross entropy loss that we are using itys similar to the loss function that is given in\n",
    "# the paper for Gans\n",
    "writer_fake=SummaryWriter(f\"runs/GAN_MNIST/fake\")\n",
    "writer_real=SummaryWriter(f\"runs/GAN_MNIST/real\")\n",
    "step =0"
   ]
  },
  {
   "attachments": {
    "image.png": {
     "image/png": "[encoded data removed]"
    }
   },
   "cell_type": "markdown",
   "id": "b357cd05",
   "metadata": {},
   "source": [
    "![image.png](attachment:image.png)"
   ]
  },
  {
   "cell_type": "code",
   "execution_count": null,
   "id": "00258378",
   "metadata": {
    "scrolled": true
   },
   "outputs": [
    {
     "name": "stdout",
     "output_type": "stream",
     "text": [
      "Epoch [0/50] \\ Loss D: 0.7327,Loss G:0.7195\n",
      "Epoch [1/50] \\ Loss D: 0.3465,Loss G:0.6938\n",
      "Epoch [2/50] \\ Loss D: 0.3468,Loss G:0.6930\n",
      "Epoch [3/50] \\ Loss D: 0.3466,Loss G:0.6935\n",
      "Epoch [4/50] \\ Loss D: 0.3464,Loss G:0.6940\n",
      "Epoch [5/50] \\ Loss D: 0.3467,Loss G:0.6932\n",
      "Epoch [6/50] \\ Loss D: 0.3467,Loss G:0.6931\n",
      "Epoch [7/50] \\ Loss D: 0.3466,Loss G:0.6933\n",
      "Epoch [8/50] \\ Loss D: 0.3464,Loss G:0.6936\n",
      "Epoch [9/50] \\ Loss D: 0.3466,Loss G:0.6933\n",
      "Epoch [10/50] \\ Loss D: 0.3463,Loss G:0.6938\n",
      "Epoch [11/50] \\ Loss D: 0.3466,Loss G:0.6933\n",
      "Epoch [12/50] \\ Loss D: 0.3465,Loss G:0.6933\n",
      "Epoch [13/50] \\ Loss D: 0.3462,Loss G:0.6940\n",
      "Epoch [14/50] \\ Loss D: 0.3464,Loss G:0.6935\n",
      "Epoch [15/50] \\ Loss D: 0.3464,Loss G:0.6937\n",
      "Epoch [16/50] \\ Loss D: 0.3467,Loss G:0.6931\n",
      "Epoch [17/50] \\ Loss D: 0.3462,Loss G:0.6939\n",
      "Epoch [18/50] \\ Loss D: 0.3464,Loss G:0.6936\n",
      "Epoch [19/50] \\ Loss D: 0.3466,Loss G:0.6932\n",
      "Epoch [20/50] \\ Loss D: 0.3464,Loss G:0.6936\n",
      "Epoch [21/50] \\ Loss D: 0.3466,Loss G:0.6932\n",
      "Epoch [22/50] \\ Loss D: 0.3464,Loss G:0.6935\n",
      "Epoch [23/50] \\ Loss D: 0.3466,Loss G:0.6932\n",
      "Epoch [24/50] \\ Loss D: 0.3465,Loss G:0.6933\n",
      "Epoch [25/50] \\ Loss D: 0.3468,Loss G:0.6928\n",
      "Epoch [26/50] \\ Loss D: 0.3468,Loss G:0.6928\n",
      "Epoch [27/50] \\ Loss D: 0.3466,Loss G:0.6931\n",
      "Epoch [28/50] \\ Loss D: 0.3467,Loss G:0.6930\n",
      "Epoch [29/50] \\ Loss D: 0.3467,Loss G:0.6930\n",
      "Epoch [30/50] \\ Loss D: 0.3467,Loss G:0.6931\n",
      "Epoch [31/50] \\ Loss D: 0.3468,Loss G:0.6928\n",
      "Epoch [32/50] \\ Loss D: 0.3467,Loss G:0.6929\n",
      "Epoch [33/50] \\ Loss D: 0.3468,Loss G:0.6928\n",
      "Epoch [34/50] \\ Loss D: 0.3466,Loss G:0.6931\n"
     ]
    }
   ],
   "source": [
    "# calculations for discriminator loss\n",
    "for epoch in range(num_epochs):\n",
    "    for batch_idx, (real, _) in enumerate(loader):\n",
    "        real =real.view(-1,784).to(device)\n",
    "        # so in the above we want to keep the samples in our batch therefore -1 and then we flatten everything to be 784\n",
    "        batch_size = real.shape[0] # to get the first dimension\n",
    "        # so the discrimiator needs to maximize its loss\n",
    "        # therefore trainig discriminator be like: max log(d(real)) + log(1-D(G(z))), to maximize this loss function for discriminator\n",
    "        noise = torch.randn(batch_size, z_dim).to(device)# , random normal distribution based numbers ,means:- mean=0 and std=1\n",
    "        fake= gen(noise)\n",
    "        disc_real = disc(real).view(-1) # to flatten  everything\n",
    "        # generating some fake images \n",
    "        lossD_real = criterion(disc_real,torch.ones_like(disc_real))   \n",
    "\n",
    "# As we are using the binary cross entropy loss, there fore we need to pass yi as 1's as to get the same output\n",
    "# for logyi, where as the second term would be 0 if we look at the above loss function, but in the bce we have -1/n, which we can convert to \n",
    "# 1 but for the negative part we now need to minimize this function as it will then act the same way.\n",
    "# given the code we have the max log(d(real)) as of now but we have the - sign ahead there fore now we need to minimize \n",
    "# the given function.\n",
    "# now we are going to calculate the second part of our loss that is log(1-D(G(z))) where we already have fake variable as \n",
    "# d(g(z)) and \n",
    "\n",
    "        disc_fake = disc(fake).view(-1)\n",
    "        lossD_fake = criterion(disc_fake, torch.zeros_like(disc_fake))\n",
    "\n",
    "# Now back to the loss function of BCE, where we are giving the argument zeroes because we want to amke the 1-yi as 1.\n",
    "# so that we can obtain log(1-d(g(z))), using the BCE, here the same negative probem arisies but we can now just minimzie the\n",
    "# expression instead of maximizing the expression.\n",
    "        \n",
    "        lossD = (lossD_real + lossD_fake)/ 2\n",
    "        disc.zero_grad()\n",
    "        lossD.backward(retain_graph = True)# this will help us retian the intermediate calculations that we performed,\n",
    "        # to get the loss for discriminator\n",
    "        opt_disc.step()\n",
    "        \n",
    "# Now we have to train the generator and we have to minimize the log(1-D(G(z))).............., this function leads to saturation\n",
    "# of gradients therefore we instead of minimizing this expression we will maximize the max log(D(G(z))), expression, so as to \n",
    "# avoid the vanishing gradient problem that may occur while traing the neural netwrok....\n",
    "        output = disc(fake).view(-1)# to compute the actual gradients we are going to need the intermediate results from this \n",
    "# fake and thats only still there in the computationla grpah as we retain the graph\n",
    "        lossG = criterion(output,torch.ones_like(output))\n",
    "# calculating again from the BCE as we there already exist a negative sign in the equation we now have to maximize our \n",
    "# loss instead of minimizing our losss........\n",
    "        gen.zero_grad()\n",
    "        lossG.backward()\n",
    "        opt_disc.step()\n",
    "        # Some additional code for tensorboard that help us visualize the data \n",
    "        if batch_idx == 0:\n",
    "            print(f\"Epoch [{epoch}/{num_epochs}] \\ \"\n",
    "            f\"Loss D: {lossD:.4f},Loss G:{lossG:.4f}\"\n",
    "            )\n",
    "            \n",
    "            with torch.no_grad():\n",
    "                fake = gen(fixed_noise).reshape(-1,1,28,28)\n",
    "                data =real.reshape(-1,1,28,28)\n",
    "                img_grid_fake = torchvision.utils.make_grid(fake,normalize=True)\n",
    "                img_grid_real = torchvision.utils.make_grid(data,normalize=True)\n",
    "                writer_fake.add_image(\"Mnist Fake Images\",img_grid_fake,global_step = step)\n",
    "                writer_real.add_image(\"Mnist Real Images\",img_grid_real,global_step = step)\n",
    "                step +=1\n",
    "# it will take an eternity to run on cpu and the losses obtained are not changing much "
   ]
  },
  {
   "cell_type": "code",
   "execution_count": null,
   "id": "3c0da15e",
   "metadata": {},
   "outputs": [],
   "source": [
    "# Originally we have to maximize the discriminator loss and minimze the generator loss, but we are doing it differently because \n",
    "# we had to tune the BCE and then gather the parameters \n",
    "\n",
    "# things that we can try to improve:\n",
    "#1. Larger netwrok other than linear\n",
    "# 2. Better Normalization with batch norm\n",
    "# 3. changing and tuning hyper parameters \n",
    "# 4. change architecture to CNN \n"
   ]
  },
  {
   "cell_type": "code",
   "execution_count": null,
   "id": "6b58d650",
   "metadata": {},
   "outputs": [],
   "source": []
  },
  {
   "cell_type": "code",
   "execution_count": null,
   "id": "24235547",
   "metadata": {},
   "outputs": [],
   "source": []
  },
  {
   "cell_type": "code",
   "execution_count": null,
   "id": "2676d50a",
   "metadata": {},
   "outputs": [],
   "source": []
  },
  {
   "cell_type": "code",
   "execution_count": null,
   "id": "f0ff4e79",
   "metadata": {},
   "outputs": [],
   "source": []
  },
  {
   "cell_type": "code",
   "execution_count": null,
   "id": "9d2055f1",
   "metadata": {},
   "outputs": [],
   "source": []
  },
  {
   "cell_type": "code",
   "execution_count": null,
   "id": "c2946edc",
   "metadata": {},
   "outputs": [],
   "source": []
  },
  {
   "cell_type": "code",
   "execution_count": null,
   "id": "55f0066e",
   "metadata": {},
   "outputs": [],
   "source": []
  },
  {
   "cell_type": "code",
   "execution_count": null,
   "id": "1db803d9",
   "metadata": {},
   "outputs": [],
   "source": []
  }
 ],
 "metadata": {
  "kernelspec": {
   "display_name": "Python 3 (ipykernel)",
   "language": "python",
   "name": "python3"
  },
  "language_info": {
   "codemirror_mode": {
    "name": "ipython",
    "version": 3
   },
   "file_extension": ".py",
   "mimetype": "text/x-python",
   "name": "python",
   "nbconvert_exporter": "python",
   "pygments_lexer": "ipython3",
   "version": "3.11.3"
  }
 },
 "nbformat": 4,
 "nbformat_minor": 5
}
